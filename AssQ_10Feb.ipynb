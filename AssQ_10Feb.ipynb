{
 "cells": [
  {
   "cell_type": "markdown",
   "id": "e1425759-706c-4c9f-a969-caced9fe104a",
   "metadata": {},
   "source": [
    "## Assignment 10-Feb"
   ]
  },
  {
   "cell_type": "code",
   "execution_count": null,
   "id": "6b9e720c-d764-49b0-b033-989db2043115",
   "metadata": {},
   "outputs": [],
   "source": [
    "## Q1. Which function is used to open a file? What are the different modes of opening a file? \n",
    "## Explain each mode of file opening."
   ]
  },
  {
   "cell_type": "code",
   "execution_count": null,
   "id": "c5d30394-42ad-4778-89cc-41ee979ac66c",
   "metadata": {},
   "outputs": [],
   "source": [
    "# open() method: \n",
    "# In Python, we use the open() method to open files."
   ]
  },
  {
   "cell_type": "code",
   "execution_count": null,
   "id": "1e6602b0-2fe3-4c7f-9339-0f74a8bd3d83",
   "metadata": {},
   "outputs": [],
   "source": [
    "# Opening a file:\n",
    "## r - open a file in read mode. w - opens or create a text file in write mode. a - opens a \n",
    "## file in append mode. r+ - opens a file in both read and write mode."
   ]
  },
  {
   "cell_type": "code",
   "execution_count": null,
   "id": "c215d11d-0e68-4b26-b03f-9c64c304ee1f",
   "metadata": {},
   "outputs": [],
   "source": []
  },
  {
   "cell_type": "code",
   "execution_count": null,
   "id": "2057b794-e7d6-433e-8c7c-777c5f11c83b",
   "metadata": {},
   "outputs": [],
   "source": [
    "# Q2. Why close() function is used? Why is it important to close a file?"
   ]
  },
  {
   "cell_type": "code",
   "execution_count": null,
   "id": "f3ac497e-d46c-42cf-ac18-5e02d5097a41",
   "metadata": {},
   "outputs": [],
   "source": [
    "# We use the close() file python as we have limited resources that are being managed by the \n",
    "# operating system. Hence, closing the files properly helps to protect against hard-to-debug errors \n",
    "# like file handles running out orexperiencing corrupted data."
   ]
  },
  {
   "cell_type": "code",
   "execution_count": null,
   "id": "b5cd1ee1-a705-4333-b8c4-7af8aafbfd7d",
   "metadata": {},
   "outputs": [],
   "source": []
  },
  {
   "cell_type": "code",
   "execution_count": null,
   "id": "7f2d5f94-1f6b-4fa2-a780-5fc80549ac53",
   "metadata": {},
   "outputs": [],
   "source": []
  },
  {
   "cell_type": "code",
   "execution_count": null,
   "id": "c9969a33-b941-4107-96ce-88971d8e6ead",
   "metadata": {},
   "outputs": [],
   "source": [
    "# Q4. Explain the following with python code: read(), readline() and readlines()."
   ]
  },
  {
   "cell_type": "code",
   "execution_count": null,
   "id": "d0032d83-c4c9-460b-931c-e834f58abf64",
   "metadata": {},
   "outputs": [],
   "source": [
    "# There are three ways for reading the data from the file:\n",
    "# Read ( ): Returns the read bytes in the form of a string.\n",
    "# Readline ( ): Reads a line of the file and returns in the form of a string.\n",
    "# readlines ( ): Reads all the lines and returns them as a string element in a list."
   ]
  },
  {
   "cell_type": "code",
   "execution_count": null,
   "id": "5b710fb3-cc85-4baf-b6b9-cc2cdadb0b22",
   "metadata": {},
   "outputs": [],
   "source": []
  },
  {
   "cell_type": "code",
   "execution_count": null,
   "id": "126f7521-f13b-449b-842b-09f9bde7f173",
   "metadata": {},
   "outputs": [],
   "source": []
  },
  {
   "cell_type": "code",
   "execution_count": null,
   "id": "091ee1bd-e730-45aa-8082-48c75ffa1d14",
   "metadata": {},
   "outputs": [],
   "source": [
    "# Q5. Explain why with statement is used with open(). What is the advantage of using\n",
    "# with statement and open() together?"
   ]
  },
  {
   "cell_type": "code",
   "execution_count": null,
   "id": "e27d48f1-56f2-418f-958f-af0b2dc40f86",
   "metadata": {},
   "outputs": [],
   "source": [
    "# There is nothing special in open() which makes it usable with the with statement and the same functionality \n",
    "# can be provided in user defined .\n",
    "# Using with means that the file will be closed as soon as you leave the block. \n",
    "# Open() method is use to open the file to read , after reading it we need to close\n",
    "# the file as well,  so for closing the file we use with statement, after reading the file ,\n",
    "# with statement will close the file automatically, that's why we use with statement  and open() together."
   ]
  },
  {
   "cell_type": "code",
   "execution_count": null,
   "id": "199e356d-2944-41aa-882b-3bc6c6afb950",
   "metadata": {},
   "outputs": [],
   "source": []
  },
  {
   "cell_type": "code",
   "execution_count": null,
   "id": "6eb5316c-a3e5-4d61-81e7-5fbb5dc38253",
   "metadata": {},
   "outputs": [],
   "source": [
    "# Q6. Explain the write() and writelines() functions. Give a suitable example."
   ]
  },
  {
   "cell_type": "code",
   "execution_count": null,
   "id": "8f2dc184-ed3d-42ec-94af-ec1ca44dca38",
   "metadata": {},
   "outputs": [],
   "source": [
    "# The only difference between the write() and writelines() is that write() is used to write a\n",
    "# string to an already opened file while writelines() method is used to write a \n",
    "# list of strings in an opened file."
   ]
  },
  {
   "cell_type": "code",
   "execution_count": null,
   "id": "e01d7db9-7826-46f6-b3d1-a81c5bcfff09",
   "metadata": {},
   "outputs": [],
   "source": [
    "## write():\n",
    "\n",
    "# The write() function will write the content in the file without adding any extra character. \n",
    "\n",
    "# Writes string content referenced by file object.\n"
   ]
  },
  {
   "cell_type": "code",
   "execution_count": null,
   "id": "0cb6123e-1018-4c44-bd28-6972c769fa36",
   "metadata": {},
   "outputs": [],
   "source": [
    "## writelines():\n",
    "\n",
    "# # This function writes the content of a list to a file. \n",
    "\n",
    "# write all the strings present in the list \"list_of_lines\" \n"
   ]
  }
 ],
 "metadata": {
  "kernelspec": {
   "display_name": "Python 3 (ipykernel)",
   "language": "python",
   "name": "python3"
  },
  "language_info": {
   "codemirror_mode": {
    "name": "ipython",
    "version": 3
   },
   "file_extension": ".py",
   "mimetype": "text/x-python",
   "name": "python",
   "nbconvert_exporter": "python",
   "pygments_lexer": "ipython3",
   "version": "3.10.8"
  }
 },
 "nbformat": 4,
 "nbformat_minor": 5
}
